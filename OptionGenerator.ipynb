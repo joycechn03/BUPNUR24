{
 "cells": [
  {
   "cell_type": "code",
   "execution_count": 6,
   "id": "8a731de0",
   "metadata": {},
   "outputs": [
    {
     "name": "stdout",
     "output_type": "stream",
     "text": [
      "You have two options: get $14 for certain or a 60.0% possibility of getting $28.0 with a 40.0% possibility of $0.\n"
     ]
    }
   ],
   "source": [
    "import random\n",
    "\n",
    "# Generate the sure option amount\n",
    "sure_option = round(random.randrange(4, 30))\n",
    "\n",
    "# Define phrases and pick one\n",
    "definite_phrases = [\"for sure\", \"for certain\", \"definitely\"]\n",
    "def_phrase_picked = definite_phrases[random.randrange(0, 3)]\n",
    "\n",
    "# Define risk phrases\n",
    "risk_phrases = [\"chance for\", \"opportunity to win\", \"possibility of getting\"]\n",
    "risk_phrase_picked = risk_phrases[random.randrange(0, 3)]\n",
    "\n",
    "# Define fail phrases\n",
    "fail_phrases = [\"chance for $0\", \"risk of getting nothing\", \"possibility of $0\"]\n",
    "fail_phrase_picked = fail_phrases[random.randrange(0, 3)]\n",
    "\n",
    "# Generate the multiplier and calculate risk probability\n",
    "multiplier = round(random.uniform(1.1, 1.8), 1)\n",
    "risk_probability = round(1 / multiplier, 1) * 100\n",
    "\n",
    "# Calculate the risk option amount\n",
    "risk_option = round(sure_option * multiplier, 0) + random.randrange(3, 5)\n",
    "\n",
    "# Construct different prompt structures\n",
    "prompts = [\n",
    "    f\"You have two options: get ${sure_option} {def_phrase_picked} or a {risk_probability}% {risk_phrase_picked} ${risk_option} with a {100 - risk_probability}% {fail_phrase_picked}.\",\n",
    "    f\"Choose between getting ${sure_option} {def_phrase_picked} and a {risk_probability}% {risk_phrase_picked} ${risk_option}, but be aware there's a {100 - risk_probability}% {fail_phrase_picked}.\",\n",
    "    f\"Option 1: ${sure_option} {def_phrase_picked}. Option 2: {risk_probability}% {risk_phrase_picked} ${risk_option}, with a {100 - risk_probability}% {fail_phrase_picked}.\",\n",
    "    f\"Would you prefer to receive ${sure_option} {def_phrase_picked}, or take a {risk_probability}% {risk_phrase_picked} ${risk_option}? Remember, there's a {100 - risk_probability}% {fail_phrase_picked}.\",\n",
    "    f\"Get ${sure_option} {def_phrase_picked} immediately or gamble with a {risk_probability}% {risk_phrase_picked} ${risk_option}, knowing there's a {100 - risk_probability}% {fail_phrase_picked}.\"\n",
    "]\n",
    "\n",
    "# Select a random prompt\n",
    "prompt_high = random.choice(prompts)\n",
    "\n",
    "print(prompt_high)"
   ]
  },
  {
   "cell_type": "code",
   "execution_count": 11,
   "id": "ff528138",
   "metadata": {
    "scrolled": true
   },
   "outputs": [
    {
     "name": "stdout",
     "output_type": "stream",
     "text": [
      "Option 1: $27 for sure. Option 2: 40.0% possibility of getting $69.0, with a 60.0% chance for $0.\n"
     ]
    }
   ],
   "source": [
    "import random\n",
    "\n",
    "# Generate the sure option amount\n",
    "sure_option = round(random.randrange(4, 30))\n",
    "\n",
    "# Define phrases and pick one\n",
    "definite_phrases = [\"for sure\", \"for certain\", \"definitely\"]\n",
    "def_phrase_picked = definite_phrases[random.randrange(0, 3)]\n",
    "\n",
    "# Define risk phrases\n",
    "risk_phrases = [\"chance for\", \"opportunity to win\", \"possibility of getting\"]\n",
    "risk_phrase_picked = risk_phrases[random.randrange(0, 3)]\n",
    "\n",
    "# Define fail phrases\n",
    "fail_phrases = [\"chance for $0\", \"risk of getting nothing\", \"possibility of $0\"]\n",
    "fail_phrase_picked = fail_phrases[random.randrange(0, 3)]\n",
    "\n",
    "# Generate the multiplier for a lower chance of the risky choice ensuring higher EV\n",
    "while True:\n",
    "    multiplier_low = round(random.uniform(2, 5), 1)\n",
    "    risk_probability_low = round(1 / multiplier_low, 1) * 100\n",
    "    risk_option_low = round(sure_option * multiplier_low, 0) + random.randrange(3, 5)\n",
    "    ev_risky = (risk_probability_low / 100) * risk_option_low\n",
    "    if ev_risky > sure_option:\n",
    "        break\n",
    "\n",
    "# Construct different prompt structures for low probability risk\n",
    "prompts_low = [\n",
    "    f\"You have two options: get ${sure_option} {def_phrase_picked} or a {risk_probability_low}% {risk_phrase_picked} ${risk_option_low} with a {100 - risk_probability_low}% {fail_phrase_picked}.\",\n",
    "    f\"Choose between getting ${sure_option} {def_phrase_picked} and a {risk_probability_low}% {risk_phrase_picked} ${risk_option_low}, but be aware there's a {100 - risk_probability_low}% {fail_phrase_picked}.\",\n",
    "    f\"Option 1: ${sure_option} {def_phrase_picked}. Option 2: {risk_probability_low}% {risk_phrase_picked} ${risk_option_low}, with a {100 - risk_probability_low}% {fail_phrase_picked}.\",\n",
    "    f\"Would you prefer to receive ${sure_option} {def_phrase_picked}, or take a {risk_probability_low}% {risk_phrase_picked} ${risk_option_low}? Remember, there's a {100 - risk_probability_low}% {fail_phrase_picked}.\",\n",
    "    f\"Get ${sure_option} {def_phrase_picked} immediately or gamble with a {risk_probability_low}% {risk_phrase_picked} ${risk_option_low}, knowing there's a {100 - risk_probability_low}% {fail_phrase_picked}.\"\n",
    "]\n",
    "\n",
    "# Select a random prompt for the low probability risk scenario\n",
    "prompt_low = random.choice(prompts_low)\n",
    "\n",
    "print(prompt_low)"
   ]
  },
  {
   "cell_type": "code",
   "execution_count": 12,
   "id": "1b407c9f",
   "metadata": {},
   "outputs": [],
   "source": [
    "prompt_high_loss = [\n",
    "    f\"You have two options: get ${sure_option} {def_phrase_picked} or a {risk_probability}% {risk_phrase_picked} ${risk_option} with a {100 - risk_probability}% {fail_phrase_picked}.\",\n",
    "    f\"Choose between getting ${sure_option} {def_phrase_picked} and a {risk_probability}% {risk_phrase_picked} ${risk_option}, but be aware there's a {100 - risk_probability}% {fail_phrase_picked}.\",\n",
    "    f\"Option 1: ${sure_option} {def_phrase_picked}. Option 2: {risk_probability}% {risk_phrase_picked} ${risk_option}, with a {100 - risk_probability}% {fail_phrase_picked}.\",\n",
    "    f\"Would you prefer to receive ${sure_option} {def_phrase_picked}, or take a {risk_probability}% {risk_phrase_picked} ${risk_option}? Remember, there's a {100 - risk_probability}% {fail_phrase_picked}.\",\n",
    "    f\"Get ${sure_option} {def_phrase_picked} immediately or gamble with a {risk_probability}% {risk_phrase_picked} ${risk_option}, knowing there's a {100 - risk_probability}% {fail_phrase_picked}.\"\n",
    "]\n",
    "\n",
    "prompt_low_loss = [\n",
    "    f\"You have two options: get ${sure_option} {def_phrase_picked} or a {risk_probability_low}% {risk_phrase_picked} ${risk_option_low} with a {100 - risk_probability_low}% {fail_phrase_picked}.\",\n",
    "    f\"Choose between getting ${sure_option} {def_phrase_picked} and a {risk_probability_low}% {risk_phrase_picked} ${risk_option_low}, but be aware there's a {100 - risk_probability_low}% {fail_phrase_picked}.\",\n",
    "    f\"Option 1: ${sure_option} {def_phrase_picked}. Option 2: {risk_probability_low}% {risk_phrase_picked} ${risk_option_low}, with a {100 - risk_probability_low}% {fail_phrase_picked}.\",\n",
    "    f\"Would you prefer to receive ${sure_option} {def_phrase_picked}, or take a {risk_probability_low}% {risk_phrase_picked} ${risk_option_low}? Remember, there's a {100 - risk_probability_low}% {fail_phrase_picked}.\",\n",
    "    f\"Get ${sure_option} {def_phrase_picked} immediately or gamble with a {risk_probability_low}% {risk_phrase_picked} ${risk_option_low}, knowing there's a {100 - risk_probability_low}% {fail_phrase_picked}.\"\n",
    "]"
   ]
  },
  {
   "cell_type": "code",
   "execution_count": null,
   "id": "aba2f9d5",
   "metadata": {},
   "outputs": [],
   "source": []
  },
  {
   "cell_type": "code",
   "execution_count": null,
   "id": "d4db3187",
   "metadata": {},
   "outputs": [],
   "source": []
  },
  {
   "cell_type": "code",
   "execution_count": null,
   "id": "49284e77",
   "metadata": {},
   "outputs": [],
   "source": []
  },
  {
   "cell_type": "code",
   "execution_count": null,
   "id": "304a3e9f",
   "metadata": {},
   "outputs": [],
   "source": []
  },
  {
   "cell_type": "code",
   "execution_count": null,
   "id": "02467089",
   "metadata": {},
   "outputs": [],
   "source": []
  }
 ],
 "metadata": {
  "kernelspec": {
   "display_name": "Python 3 (ipykernel)",
   "language": "python",
   "name": "python3"
  },
  "language_info": {
   "codemirror_mode": {
    "name": "ipython",
    "version": 3
   },
   "file_extension": ".py",
   "mimetype": "text/x-python",
   "name": "python",
   "nbconvert_exporter": "python",
   "pygments_lexer": "ipython3",
   "version": "3.9.12"
  }
 },
 "nbformat": 4,
 "nbformat_minor": 5
}
